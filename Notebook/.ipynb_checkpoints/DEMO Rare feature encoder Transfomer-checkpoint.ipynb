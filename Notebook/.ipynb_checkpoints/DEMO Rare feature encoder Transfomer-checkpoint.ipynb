{
 "cells": [
  {
   "cell_type": "code",
   "execution_count": null,
   "metadata": {},
   "outputs": [],
   "source": [
    "import pandas as pd\n",
    "import numpy as np\n",
    "import matplotlib.pyplot as plt\n",
    "\n",
    "from sklearn.pipeline import Pipeline\n",
    "from ml_tooling.transformers import RareFeatureEncoder, ToCategorical,Select\n",
    "plt.rcParams['figure.figsize'] = (10, 5)"
   ]
  },
  {
   "cell_type": "markdown",
   "metadata": {},
   "source": [
    "## ML Tooling - Rare Feature Encoder\n",
    "https://ml-tooling.readthedocs.io/en/stable/transformers.html#rarefeatureencoder\n",
    "\n",
    "#### General \n",
    "- Less than threshold (rare values =  frequencies < threshold ) \n",
    "\n",
    "- Nan values are not included, they should be transformed before.\n",
    "\n",
    "- The threshold can be an int or percentage.\n",
    "\n",
    "- Can be used in cross validation and gridsearch.\n",
    "\n",
    "- Can handle columns which are either not in Train or Test.\n",
    "\n",
    "- Column name needs to be identical.\n",
    "\n",
    "\n",
    "## Data \n",
    "https://www.kaggle.com/c/petfinder-adoption-prediction/data\n",
    "\n"
   ]
  },
  {
   "cell_type": "markdown",
   "metadata": {},
   "source": [
    "## Data "
   ]
  },
  {
   "cell_type": "code",
   "execution_count": null,
   "metadata": {},
   "outputs": [],
   "source": [
    "data = pd.read_csv('train_PetFinder.csv')\n",
    "print('Shape'.format(data.shape))\n",
    "data.head(2)"
   ]
  },
  {
   "cell_type": "code",
   "execution_count": null,
   "metadata": {},
   "outputs": [],
   "source": [
    "data.Breed1.hist(bins=30)\n",
    "plt.show()"
   ]
  },
  {
   "cell_type": "code",
   "execution_count": null,
   "metadata": {},
   "outputs": [],
   "source": [
    "data.Breed1.value_counts()"
   ]
  },
  {
   "cell_type": "code",
   "execution_count": null,
   "metadata": {
    "scrolled": true
   },
   "outputs": [],
   "source": [
    "data.Breed1.value_counts(normalize=True)"
   ]
  },
  {
   "cell_type": "markdown",
   "metadata": {},
   "source": [
    "## Transform Breed1"
   ]
  },
  {
   "cell_type": "markdown",
   "metadata": {},
   "source": [
    "### Without Rare Feature Encoder"
   ]
  },
  {
   "cell_type": "code",
   "execution_count": null,
   "metadata": {},
   "outputs": [],
   "source": [
    "breed1 = Pipeline([\n",
    "    ('select', Select('Breed1')),\n",
    "    ('categorical', ToCategorical())\n",
    "])"
   ]
  },
  {
   "cell_type": "code",
   "execution_count": null,
   "metadata": {
    "scrolled": false
   },
   "outputs": [],
   "source": [
    "breed1.fit_transform(data).head()"
   ]
  },
  {
   "cell_type": "markdown",
   "metadata": {},
   "source": [
    "### With Rare Feature Encoder"
   ]
  },
  {
   "cell_type": "markdown",
   "metadata": {},
   "source": [
    "#### A number "
   ]
  },
  {
   "cell_type": "code",
   "execution_count": null,
   "metadata": {},
   "outputs": [],
   "source": [
    "breed1_rare = Pipeline([\n",
    "    ('select', Select('Breed1')),\n",
    "    ('rare', RareFeatureEncoder(threshold= 200, fill_rare = 'Rare')),\n",
    "    ('categorical', ToCategorical())\n",
    "])"
   ]
  },
  {
   "cell_type": "code",
   "execution_count": null,
   "metadata": {
    "scrolled": true
   },
   "outputs": [],
   "source": [
    "breed1_rare.fit_transform(data)"
   ]
  },
  {
   "cell_type": "markdown",
   "metadata": {},
   "source": [
    "#### A percentage "
   ]
  },
  {
   "cell_type": "code",
   "execution_count": null,
   "metadata": {},
   "outputs": [],
   "source": [
    "breed1_rare_percent = Pipeline([\n",
    "    ('select', Select('Breed1')),\n",
    "    ('rare', RareFeatureEncoder(threshold= 0.02, fill_rare = 'Rare')),\n",
    "    ('categorical', ToCategorical())\n",
    "])"
   ]
  },
  {
   "cell_type": "code",
   "execution_count": null,
   "metadata": {},
   "outputs": [],
   "source": [
    "breed1_rare_percent.fit_transform(data)"
   ]
  },
  {
   "cell_type": "code",
   "execution_count": null,
   "metadata": {},
   "outputs": [],
   "source": []
  }
 ],
 "metadata": {
  "kernelspec": {
   "display_name": "Python 3",
   "language": "python",
   "name": "python3"
  },
  "language_info": {
   "codemirror_mode": {
    "name": "ipython",
    "version": 3
   },
   "file_extension": ".py",
   "mimetype": "text/x-python",
   "name": "python",
   "nbconvert_exporter": "python",
   "pygments_lexer": "ipython3",
   "version": "3.8.3"
  }
 },
 "nbformat": 4,
 "nbformat_minor": 4
}
